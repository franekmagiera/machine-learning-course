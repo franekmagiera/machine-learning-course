{
 "cells": [
  {
   "cell_type": "markdown",
   "metadata": {},
   "source": [
    "The goal of this exercise is to implement the backpropagation algorithm for neural networks and use it for hand-written digit recognition.\n",
    "\n",
    "In the X.csv file there are 5000 training examples that are 20x20 grayscale images of the hand-written digits (from the MNIST database). Each 20x20 image has been unrolled into a 400 dimensional vector and became a row in the 5000x400 matrix X. In the y.csv file there is a 5000 dimensional vector of labels for the training set.\n",
    "\n",
    "I start by reading the data and visualising it."
   ]
  },
  {
   "cell_type": "code",
   "execution_count": 41,
   "metadata": {},
   "outputs": [],
   "source": [
    "import numpy as np\n",
    "import matplotlib.pyplot as plt\n",
    "%matplotlib inline\n",
    "\n",
    "X = np.genfromtxt('X.csv', delimiter=',')\n",
    "y = np.genfromtxt('y.csv', delimiter=',')"
   ]
  },
  {
   "cell_type": "code",
   "execution_count": 42,
   "metadata": {},
   "outputs": [
    {
     "data": {
      "image/png": "[encoded data removed]",
      "text/plain": [
       "<Figure size 864x540 with 9 Axes>"
      ]
     },
     "metadata": {
      "needs_background": "light"
     },
     "output_type": "display_data"
    }
   ],
   "source": [
    "from random import sample\n",
    "rows = 3\n",
    "cols = 3\n",
    "fig, ax = plt.subplots(rows, cols)\n",
    "indexes = sample(range(0, X.shape[0]), rows*cols)\n",
    "indexes = np.reshape(indexes, (rows, cols))\n",
    "fig.set_size_inches(12, 7.5)\n",
    "for i in range(rows):\n",
    "    for j in range(cols):\n",
    "        ax[i, j].imshow(X[indexes[i, j]].reshape(20, 20, order='F'))\n",
    "        ax[i, j].axis('off')\n",
    "        ax[i, j].set_title(int(y[indexes[i, j]]))\n",
    "plt.tight_layout()"
   ]
  },
  {
   "cell_type": "markdown",
   "metadata": {},
   "source": [
    "Neural network used in the exercise will be a very simple one comprising 3 layers - an input layer, a hidden layer and an output layer. Inputs are pixel values of a 20x20 pixel image, so there will be 400 input units and 1 bias unit. I already have a set of network parameters $(\\Theta^{(1)}, \\Theta^{(2)})$ provided by a course lecturer. The second layer has 25 units and the output layer has 10 output units (because there are 10 digits 0-9). Hence $\\Theta^{(1)}$ is 25x401 dimensional and $\\Theta^{(2)}$ is 10x26 dimensional."
   ]
  },
  {
   "cell_type": "code",
   "execution_count": 3,
   "metadata": {},
   "outputs": [
    {
     "data": {
      "text/plain": [
       "[(25, 401), (10, 26)]"
      ]
     },
     "execution_count": 3,
     "metadata": {},
     "output_type": "execute_result"
    }
   ],
   "source": [
    "Theta1 = np.genfromtxt('Theta1.csv', delimiter=',')\n",
    "Theta2 = np.genfromtxt('Theta2.csv', delimiter=',')\n",
    "[Theta1.shape, Theta2.shape]"
   ]
  },
  {
   "cell_type": "markdown",
   "metadata": {},
   "source": [
    "Next I will implement feedforward propagation and the cost function. The cost function for the neural network (without regularisation) is: $J(\\theta) = \\frac{1}{m} \\sum_{i=1}^m \\sum_{j=1}^K [-y_k^{(i)} log((h_\\theta(x^{(i)}))_k) - (1 - y_k^{(i)}) log(1 - (h_\\theta(x^{(i)}))_k)]$."
   ]
  },
  {
   "cell_type": "code",
   "execution_count": 4,
   "metadata": {},
   "outputs": [
    {
     "data": {
      "text/plain": [
       "array([[1., 0., 0., ..., 0., 0., 0.],\n",
       "       [1., 0., 0., ..., 0., 0., 0.],\n",
       "       [1., 0., 0., ..., 0., 0., 0.],\n",
       "       ...,\n",
       "       [1., 0., 0., ..., 0., 0., 0.],\n",
       "       [1., 0., 0., ..., 0., 0., 0.],\n",
       "       [1., 0., 0., ..., 0., 0., 0.]])"
      ]
     },
     "execution_count": 4,
     "metadata": {},
     "output_type": "execute_result"
    }
   ],
   "source": [
    "# Appending column of ones at the beginning of X matrix to take bias units into account.\n",
    "X = np.insert(X, 0, 1, axis=1)\n",
    "X"
   ]
  },
  {
   "cell_type": "markdown",
   "metadata": {},
   "source": [
    "I will have to recode $y$ so the labels are vectors containing only 0 or 1. For example when $y^{(i)} = 5$ then $y^{(i)} = [0, 0, 0, 0, 1, 0, 0, 0, 0]$. I will recode $y$ to be a matrix $Y$ containg each label in a row."
   ]
  },
  {
   "cell_type": "code",
   "execution_count": 5,
   "metadata": {},
   "outputs": [
    {
     "data": {
      "text/plain": [
       "array([[1., 0., 0., ..., 0., 0., 0.],\n",
       "       [1., 0., 0., ..., 0., 0., 0.],\n",
       "       [1., 0., 0., ..., 0., 0., 0.],\n",
       "       ...,\n",
       "       [0., 0., 0., ..., 0., 0., 1.],\n",
       "       [0., 0., 0., ..., 0., 0., 1.],\n",
       "       [0., 0., 0., ..., 0., 0., 1.]])"
      ]
     },
     "execution_count": 5,
     "metadata": {},
     "output_type": "execute_result"
    }
   ],
   "source": [
    "Y = np.zeros((len(y), 10))\n",
    "for index, row in enumerate(Y):\n",
    "    row[int(y[index])] = 1\n",
    "Y"
   ]
  },
  {
   "cell_type": "code",
   "execution_count": 6,
   "metadata": {},
   "outputs": [],
   "source": [
    "from numbers import Number\n",
    "def sigmoid(x):\n",
    "    if isinstance(x, Number):\n",
    "        return 1/(1+np.exp(-x))\n",
    "    else:\n",
    "        return np.divide(np.ones(x.shape), np.add(np.ones(x.shape), np.exp(np.negative(x))))\n",
    "\n",
    "def sigmoid_gradient(x):\n",
    "    if isinstance(x, Number):\n",
    "        return sigmoid(x)*(1 - sigmoid(x))\n",
    "    else:\n",
    "        return np.multiply(sigmoid(x), (np.subtract(np.ones(x.shape), sigmoid(x))))"
   ]
  },
  {
   "cell_type": "code",
   "execution_count": 7,
   "metadata": {},
   "outputs": [
    {
     "data": {
      "text/plain": [
       "[0.28762916516131876, 0.3844877962428938]"
      ]
     },
     "execution_count": 7,
     "metadata": {},
     "output_type": "execute_result"
    }
   ],
   "source": [
    "def nn_cost_function_matlab_indexing(theta, input_layer_size, hidden_layer_size, num_labels, X, Y, regularisation_parameter):\n",
    "    '''\n",
    "    This function takes into account the fact that neural network\\'s Theta1 and Theta2 parameters\n",
    "    supplied by a course lecturer have been derived in MATLAB where array indexing is different than\n",
    "    in Python and my model. So in order for it to calculate correct values I have to change the order\n",
    "    of columns in Htheta - the last column should become the first.\n",
    "    '''\n",
    "    Theta1 = np.reshape(theta[:hidden_layer_size*(input_layer_size+1)], (hidden_layer_size, input_layer_size+1), order='F')\n",
    "    Theta2 = np.reshape(theta[hidden_layer_size*(input_layer_size+1):], (num_labels, hidden_layer_size+1), order='F')\n",
    "    m = X.shape[0]\n",
    "    K = Y.shape[1]\n",
    "    # Feedforward.\n",
    "    z2 = (Theta1 @ np.transpose(X)) # Now every column contains a transformed training example.\n",
    "    a2 = sigmoid(z2)\n",
    "    # Appending a row of ones to take bias into account.\n",
    "    a2 = np.insert(a2, 0, 1, axis=0)\n",
    "    z3 = np.transpose(Theta2 @ a2) # Now every row contains an output value.\n",
    "    Htheta = sigmoid(z3) # Every row contains a hypothesis value.\n",
    "    # Have to change the last row with the first one because of different indexing in MATLAB.\n",
    "    Htheta = np.insert(Htheta, 0, Htheta[:, -1], axis=1) # 1\n",
    "    Htheta = np.delete(Htheta, 10, axis=1) # 2\n",
    "    #\n",
    "    # Cost function.\n",
    "    J = 1/m * sum(sum(np.subtract(np.multiply(-Y, np.log(Htheta)), np.multiply(np.subtract(np.ones(Y.shape), Y), np.log(np.subtract(np.ones(Y.shape), Htheta))))))\n",
    "    J += regularisation_parameter/(2*m) * (sum(sum(np.square(Theta1))) + sum(sum(np.square(Theta2))))\n",
    "    return J\n",
    "#[nn_cost_function_matlab_indexing(Theta1, Theta2, X, Y, 0), nn_cost_function_matlab_indexing(Theta1, Theta2, X, Y, 1)]\n",
    "theta = np.concatenate((Theta1.T.ravel(), Theta2.T.ravel()))\n",
    "[nn_cost_function_matlab_indexing(theta, 400, 25, 10, X, Y, 0),\\\n",
    " nn_cost_function_matlab_indexing(theta, 400, 25, 10, X, Y, 1)]"
   ]
  },
  {
   "cell_type": "markdown",
   "metadata": {},
   "source": [
    "Computed values are correct (they were compared with values provided in the exercise description). I had to take into account MATLAB's array indexing."
   ]
  },
  {
   "cell_type": "code",
   "execution_count": 8,
   "metadata": {},
   "outputs": [],
   "source": [
    "def nn_cost_function1(theta, input_layer_size, hidden_layer_size, num_labels, X, Y, regularisation_parameter):\n",
    "    '''\n",
    "    This function should work for Python indexing.\n",
    "    '''\n",
    "    Theta1 = np.reshape(theta[:hidden_layer_size*(input_layer_size+1)], (hidden_layer_size, input_layer_size+1), order='F')\n",
    "    Theta2 = np.reshape(theta[hidden_layer_size*(input_layer_size+1):], (num_labels, hidden_layer_size+1), order='F')\n",
    "    m = X.shape[0]\n",
    "    K = Y.shape[1]\n",
    "    # Feedforward.\n",
    "    z2 = (Theta1 @ np.transpose(X)) # Now every column contains a transformed training example.\n",
    "    a2 = sigmoid(z2)\n",
    "    # Appending a row of ones to take bias into account.\n",
    "    a2 = np.insert(a2, 0, 1, axis=0)\n",
    "    z3 = np.transpose(Theta2 @ a2) # Now every row contains an output value.\n",
    "    Htheta = sigmoid(z3) # Every row contains a hypothesis value.\n",
    "    # Cost function.\n",
    "    J = 1/m * sum(sum(np.subtract(np.multiply(-Y, np.log(Htheta)), np.multiply(np.subtract(np.ones(Y.shape), Y), np.log(np.subtract(np.ones(Y.shape), Htheta))))))\n",
    "    J += regularisation_parameter/(2*m) * (sum(sum(np.square(Theta1))) + sum(sum(np.square(Theta2))))\n",
    "    return J"
   ]
  },
  {
   "cell_type": "markdown",
   "metadata": {},
   "source": [
    "When training neural networks it is important to randomly initialize the weights for the purpouses of symmetry breaking. Proposed strategy is to select random values for $\\Theta^{(l)}$ uniformly from the range $[-\\epsilon_{init}, \\epsilon_{init}]$. It is advised to choose $\\epsilon_{init}$ based on the number of units in layers adjacent to the weights according to the formula: $\\frac{\\sqrt{6}}{\\sqrt{L_{in} + L_{out}}}$."
   ]
  },
  {
   "cell_type": "code",
   "execution_count": 9,
   "metadata": {},
   "outputs": [
    {
     "data": {
      "text/plain": [
       "0.11867816581938531"
      ]
     },
     "execution_count": 9,
     "metadata": {},
     "output_type": "execute_result"
    }
   ],
   "source": [
    "Lin = 401\n",
    "Lout = 25\n",
    "eps_init = np.sqrt(6)/np.sqrt(Lin + Lout)\n",
    "eps_init"
   ]
  },
  {
   "cell_type": "markdown",
   "metadata": {},
   "source": [
    "In this case $\\epsilon_{init} \\approx 0.12$."
   ]
  },
  {
   "cell_type": "code",
   "execution_count": 10,
   "metadata": {},
   "outputs": [],
   "source": [
    "MyTheta1 = np.random.uniform(-eps_init, eps_init, (25, 401))"
   ]
  },
  {
   "cell_type": "markdown",
   "metadata": {},
   "source": [
    "And now for $\\Theta^{(2)}$."
   ]
  },
  {
   "cell_type": "code",
   "execution_count": 11,
   "metadata": {},
   "outputs": [
    {
     "data": {
      "text/plain": [
       "0.40824829046386296"
      ]
     },
     "execution_count": 11,
     "metadata": {},
     "output_type": "execute_result"
    }
   ],
   "source": [
    "Lin = 26\n",
    "Lout = 10\n",
    "eps_init = np.sqrt(6)/np.sqrt(Lin + Lout)\n",
    "eps_init"
   ]
  },
  {
   "cell_type": "code",
   "execution_count": 12,
   "metadata": {},
   "outputs": [],
   "source": [
    "MyTheta2 = np.random.uniform(-eps_init, eps_init, (10, 26))"
   ]
  },
  {
   "cell_type": "markdown",
   "metadata": {},
   "source": [
    "Now I can implement backpropagation."
   ]
  },
  {
   "cell_type": "code",
   "execution_count": 13,
   "metadata": {},
   "outputs": [
    {
     "data": {
      "text/plain": [
       "[7.976046721237523,\n",
       " array([-0.16864661,  0.05511215, -0.00396877, ...,  0.19586927,\n",
       "         0.35798085,  0.2797279 ])]"
      ]
     },
     "execution_count": 13,
     "metadata": {},
     "output_type": "execute_result"
    }
   ],
   "source": [
    "def nn_cost_function2(theta, input_layer_size, hidden_layer_size, num_labels, X, Y, regularisation_parameter):\n",
    "    '''\n",
    "    This function should work for Python indexing.\n",
    "    '''\n",
    "    Theta1 = np.reshape(theta[:hidden_layer_size*(input_layer_size+1)], (hidden_layer_size, input_layer_size+1), order='F')\n",
    "    Theta2 = np.reshape(theta[hidden_layer_size*(input_layer_size+1):], (num_labels, hidden_layer_size+1), order='F')\n",
    "    m = X.shape[0]\n",
    "    K = Y.shape[1]\n",
    "    # Feedforward.\n",
    "    z2 = (Theta1 @ np.transpose(X)) # Now every column contains a transformed training example.\n",
    "    a2 = sigmoid(z2)\n",
    "    # Appending a row of ones to take bias into account.\n",
    "    a2 = np.insert(a2, 0, 1, axis=0)\n",
    "    z3 = np.transpose(Theta2 @ a2) # Now every row contains an output value.\n",
    "    Htheta = sigmoid(z3) # Every row contains a hypothesis value.\n",
    "    # Cost function.\n",
    "    J = 1/m * sum(sum(np.subtract(np.multiply(-Y, np.log(Htheta)), np.multiply(np.subtract(np.ones(Y.shape), Y), np.log(np.subtract(np.ones(Y.shape), Htheta))))))\n",
    "    J += regularisation_parameter/(2*m) * (sum(sum(np.square(Theta1))) + sum(sum(np.square(Theta2))))\n",
    "    # Backpropagation.\n",
    "    a3 = np.copy(Htheta)\n",
    "    delta3 = np.subtract(a3, Y)\n",
    "    delta2 = np.multiply(np.transpose(Theta2) @ np.transpose(delta3), sigmoid_gradient(np.insert(z2, 0, 1, axis=0)))\n",
    "    # Removing \"error term\" coming from bias term.\n",
    "    delta2 = np.delete(delta2, 0, axis=0) # Now every column contains \"error term\" for layer 2. \n",
    "    DELTA2 = np.transpose(delta3)@np.transpose(a2)\n",
    "    DELTA1 = delta2@X\n",
    "    D1 = DELTA1/m\n",
    "    D2 = DELTA2/m\n",
    "    # Regularisation\n",
    "    Theta12 = np.copy(Theta1)\n",
    "    Theta12[:, 0] = 0\n",
    "    D1 = np.add(D1, regularisation_parameter/m * Theta12)\n",
    "    Theta22 = np.copy(Theta2)\n",
    "    Theta22[:, 0] = 0\n",
    "    D2 = np.add(D2, regularisation_parameter/m * Theta22)\n",
    "    # Unrolling gradients.\n",
    "    grad = np.concatenate((D1.T.ravel(), D2.T.ravel()))\n",
    "    return [J, grad]\n",
    "mytheta = np.concatenate((MyTheta1.T.ravel(), MyTheta2.T.ravel()))\n",
    "Jval, grad = nn_cost_function2(mytheta, 400, 25, 10, X, Y, 0)\n",
    "[Jval, grad]"
   ]
  },
  {
   "cell_type": "markdown",
   "metadata": {},
   "source": [
    "Now in order to check if my backpropagation implementation is correct I will perform gradient checking using gradient values computed numerically."
   ]
  },
  {
   "cell_type": "code",
   "execution_count": 196,
   "metadata": {},
   "outputs": [],
   "source": [
    "cost_function = lambda p: nn_cost_function1(p, 400, 25, 10, X, Y, 0)\n",
    "def compute_numerical_gradient(cost_function, theta):\n",
    "    numgrad = np.zeros(theta.size)\n",
    "    perturb = np.zeros(theta.size)\n",
    "    e = 1e-4\n",
    "    for index, p in enumerate(range(theta.size)):\n",
    "        perturb[index] = e;\n",
    "        loss1 = cost_function(np.subtract(theta, perturb))\n",
    "        loss2 = cost_function(np.add(theta, perturb))\n",
    "        numgrad[index] = (loss2 - loss1) / (2*e)\n",
    "        perturb[index] = 0\n",
    "    return numgrad\n",
    "numerical_gradient = compute_numerical_gradient(cost_function, mytheta) #unregularised"
   ]
  },
  {
   "cell_type": "code",
   "execution_count": 198,
   "metadata": {},
   "outputs": [
    {
     "data": {
      "text/plain": [
       "3.264565138064996e-10"
      ]
     },
     "execution_count": 198,
     "metadata": {},
     "output_type": "execute_result"
    }
   ],
   "source": [
    "diff = np.linalg.norm(np.subtract(numerical_gradient, grad))/np.linalg.norm(np.add(numerical_gradient, grad))\n",
    "diff"
   ]
  },
  {
   "cell_type": "markdown",
   "metadata": {},
   "source": [
    "Relative difference between numerically computed gradient and derived analytically from backpropagation is smaller than 1e-9 so I have strong evidence that my implementation of backpropagation is correct."
   ]
  },
  {
   "cell_type": "code",
   "execution_count": 14,
   "metadata": {},
   "outputs": [
    {
     "data": {
      "text/plain": [
       "[7.982204326925314,\n",
       " array([-0.16864661,  0.05511215, -0.00396877, ...,  0.19594647,\n",
       "         0.35801755,  0.27965109])]"
      ]
     },
     "execution_count": 14,
     "metadata": {},
     "output_type": "execute_result"
    }
   ],
   "source": [
    "reg_Jval, reg_grad = nn_cost_function2(mytheta, 400, 25, 10, X, Y, 1)\n",
    "[reg_Jval, reg_grad]"
   ]
  },
  {
   "cell_type": "code",
   "execution_count": 221,
   "metadata": {},
   "outputs": [
    {
     "data": {
      "text/plain": [
       "2.3903877655565138e-05"
      ]
     },
     "execution_count": 221,
     "metadata": {},
     "output_type": "execute_result"
    }
   ],
   "source": [
    "cost_function = lambda p: nn_cost_function1(p, 400, 25, 10, X, Y, 1)\n",
    "reg_numerical_gradient = compute_numerical_gradient(cost_function, mytheta)\n",
    "diff = np.linalg.norm(np.subtract(reg_numerical_gradient, reg_grad))/np.linalg.norm(np.add(reg_numerical_gradient, reg_grad))\n",
    "diff"
   ]
  },
  {
   "cell_type": "markdown",
   "metadata": {},
   "source": [
    "Again the difference is very small so I am more confident in my implementation. Now I can train the neural network using SciPy's fmin_cg function."
   ]
  },
  {
   "cell_type": "code",
   "execution_count": 15,
   "metadata": {},
   "outputs": [
    {
     "name": "stdout",
     "output_type": "stream",
     "text": [
      "Warning: Desired error not necessarily achieved due to precision loss.\n",
      "         Current function value: 0.342184\n",
      "         Iterations: 171\n",
      "         Function evaluations: 490\n",
      "         Gradient evaluations: 478\n"
     ]
    }
   ],
   "source": [
    "from scipy import optimize\n",
    "regularisation_parameter = 1\n",
    "optimal_theta = optimize.fmin_cg(f=lambda x: nn_cost_function2(x, 400, 25, 10, X, Y, regularisation_parameter)[0],\n",
    "                                 x0=mytheta,\n",
    "                                 fprime=lambda x: nn_cost_function2(x, 400, 25, 10, X, Y, regularisation_parameter)[1])\n"
   ]
  },
  {
   "cell_type": "code",
   "execution_count": 16,
   "metadata": {},
   "outputs": [
    {
     "data": {
      "text/plain": [
       "[0.3421839601437344,\n",
       " array([-3.02528078e-04, -4.20447617e-04,  8.62092543e-04, ...,\n",
       "         6.80948737e-05,  5.86870478e-05,  2.12824568e-04])]"
      ]
     },
     "execution_count": 16,
     "metadata": {},
     "output_type": "execute_result"
    }
   ],
   "source": [
    "nn_cost_function2(optimal_theta, 400, 25, 10, X, Y, 1)"
   ]
  },
  {
   "cell_type": "code",
   "execution_count": 17,
   "metadata": {},
   "outputs": [
    {
     "data": {
      "text/plain": [
       "array([0, 0, 0, ..., 9, 9, 9], dtype=int64)"
      ]
     },
     "execution_count": 17,
     "metadata": {},
     "output_type": "execute_result"
    }
   ],
   "source": [
    "def predict(theta, input_layer_size, hidden_layer_size, num_labels, X):\n",
    "    Theta1 = np.reshape(theta[:hidden_layer_size*(input_layer_size+1)], (hidden_layer_size, input_layer_size+1), order='F')\n",
    "    Theta2 = np.reshape(theta[hidden_layer_size*(input_layer_size+1):], (num_labels, hidden_layer_size+1), order='F')\n",
    "    m = X.shape[0]\n",
    "    K = Y.shape[1]\n",
    "    # Feedforward.\n",
    "    z2 = (Theta1 @ np.transpose(X)) # Now every column contains a transformed training example.\n",
    "    a2 = sigmoid(z2)\n",
    "    # Appending a row of ones to take bias into account.\n",
    "    a2 = np.insert(a2, 0, 1, axis=0)\n",
    "    z3 = np.transpose(Theta2 @ a2) # Now every row contains an output value.\n",
    "    Htheta = sigmoid(z3) # Every row contains a hypothesis value.\n",
    "    return Htheta\n",
    "\n",
    "predictions = np.argmax(predict(optimal_theta, 400, 25, 10, X), axis=1)\n",
    "predictions"
   ]
  },
  {
   "cell_type": "code",
   "execution_count": 18,
   "metadata": {},
   "outputs": [
    {
     "data": {
      "text/plain": [
       "99.16"
      ]
     },
     "execution_count": 18,
     "metadata": {},
     "output_type": "execute_result"
    }
   ],
   "source": [
    "sum(predictions == y)/len(y)*100"
   ]
  },
  {
   "cell_type": "markdown",
   "metadata": {},
   "source": [
    "My neural network predicts 99.16% of exampels in training sets correctly. Now I am curious which examples were classified incorrectly."
   ]
  },
  {
   "cell_type": "code",
   "execution_count": 43,
   "metadata": {},
   "outputs": [
    {
     "name": "stdout",
     "output_type": "stream",
     "text": [
      "[[1440 4251 2498]\n",
      " [1413 1550  561]\n",
      " [4593 4990 2593]]\n"
     ]
    },
    {
     "data": {
      "image/png": "[encoded data removed]",
      "text/plain": [
       "<Figure size 864x540 with 9 Axes>"
      ]
     },
     "metadata": {
      "needs_background": "light"
     },
     "output_type": "display_data"
    }
   ],
   "source": [
    "incorrectly_classified = [i for i in range(len(y)) if predictions[i] != y[i]]\n",
    "X2 = np.genfromtxt('X.csv', delimiter=',')\n",
    "rows = 3\n",
    "cols = 3\n",
    "fig, ax = plt.subplots(rows, cols)\n",
    "indexes = sample(incorrectly_classified, rows*cols)\n",
    "indexes = np.reshape(indexes, (rows, cols))\n",
    "fig.set_size_inches(12, 7.5)\n",
    "for i in range(rows):\n",
    "    for j in range(cols):\n",
    "        ax[i, j].imshow(X2[indexes[i, j]].reshape(20, 20, order='F'))\n",
    "        ax[i, j].axis('off')\n",
    "        ax[i, j].set_title(int(y[indexes[i, j]]))\n",
    "plt.tight_layout()\n",
    "print(indexes)"
   ]
  },
  {
   "cell_type": "markdown",
   "metadata": {},
   "source": [
    "It is noticeable that some of those incorrectly classified examples are really badly written.\n",
    "\n",
    "Now I will visualise what activates hidden units."
   ]
  },
  {
   "cell_type": "code",
   "execution_count": 35,
   "metadata": {},
   "outputs": [
    {
     "data": {
      "image/png": "[encoded data removed]",
      "text/plain": [
       "<Figure size 864x540 with 25 Axes>"
      ]
     },
     "metadata": {
      "needs_background": "light"
     },
     "output_type": "display_data"
    }
   ],
   "source": [
    "optimal_Theta1 = np.reshape(optimal_theta[:25*(400+1)], (25, 400+1), order='F')\n",
    "optimal_Theta1 = optimal_Theta1[:, 1:]\n",
    "\n",
    "rows = 5\n",
    "cols = 5\n",
    "fig, ax = plt.subplots(rows, cols)\n",
    "fig.set_size_inches(12, 7.5)\n",
    "indexes = list(range(rows*cols))\n",
    "indexes = np.reshape(indexes, (rows, cols))\n",
    "for i in range(rows):\n",
    "    for j in range(cols):\n",
    "        ax[i, j].imshow(optimal_Theta1[indexes[i, j]].reshape(20, 20, order='F'), cmap='gray')\n",
    "        ax[i, j].axis('off')\n",
    "plt.tight_layout()"
   ]
  }
 ],
 "metadata": {
  "kernelspec": {
   "display_name": "Python 3",
   "language": "python",
   "name": "python3"
  },
  "language_info": {
   "codemirror_mode": {
    "name": "ipython",
    "version": 3
   },
   "file_extension": ".py",
   "mimetype": "text/x-python",
   "name": "python",
   "nbconvert_exporter": "python",
   "pygments_lexer": "ipython3",
   "version": "3.7.3"
  }
 },
 "nbformat": 4,
 "nbformat_minor": 2
}
