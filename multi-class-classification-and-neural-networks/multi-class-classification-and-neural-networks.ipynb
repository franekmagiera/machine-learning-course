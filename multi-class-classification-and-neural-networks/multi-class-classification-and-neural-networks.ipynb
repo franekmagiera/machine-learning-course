{
 "cells": [
  {
   "cell_type": "markdown",
   "metadata": {},
   "source": [
    "I will implement one-vs-all logistic regression and a neural network to predict hand-written digits."
   ]
  },
  {
   "cell_type": "code",
   "execution_count": 86,
   "metadata": {},
   "outputs": [],
   "source": [
    "import numpy as np\n",
    "import matplotlib.pyplot as plt\n",
    "%matplotlib inline\n"
   ]
  },
  {
   "cell_type": "markdown",
   "metadata": {},
   "source": [
    "X.csv file contains a 5000x400 matrix where every row is a training example representing a 20x20 pixel image (all pixels' grayscale values are in a row one after another). There are 5000 training examples which are a subset of the MNIST handwritten digit dataset. y.csv contains a 5000 dimensional vector containing labels for the data set."
   ]
  },
  {
   "cell_type": "code",
   "execution_count": 87,
   "metadata": {},
   "outputs": [],
   "source": [
    "X = np.genfromtxt('X.csv', delimiter=',')\n",
    "y = np.genfromtxt('y.csv', delimiter=',')\n",
    "y[y == 10] = 0"
   ]
  },
  {
   "cell_type": "code",
   "execution_count": 88,
   "metadata": {},
   "outputs": [
    {
     "data": {
      "text/plain": [
       "array([[5., 5., 9.],\n",
       "       [6., 2., 2.],\n",
       "       [7., 8., 2.]])"
      ]
     },
     "execution_count": 88,
     "metadata": {},
     "output_type": "execute_result"
    },
    {
     "data": {
      "image/png": "[encoded data removed]",
      "text/plain": [
       "<Figure size 432x288 with 9 Axes>"
      ]
     },
     "metadata": {
      "needs_background": "light"
     },
     "output_type": "display_data"
    }
   ],
   "source": [
    "from random import sample\n",
    "indexes = sample(range(len(X)), 9)\n",
    "for i in range(9):\n",
    "    image = X[indexes[i],:].reshape((20,20), order='F').copy()\n",
    "    plt.subplot(331+i)\n",
    "    plt.imshow(image, cmap='gray')\n",
    "    plt.axis('off')\n",
    "y[indexes].reshape((3,3))"
   ]
  },
  {
   "cell_type": "markdown",
   "metadata": {},
   "source": [
    "For regularised logistic regression the cost function is defined as $J(\\theta) = \\frac{1}{m} \\sum_{i=1}^{m} [-y^{(i)} log(h_\\theta(x^{(i)})) - (1-y^{(i)}) log(1-h_\\theta(x^{(i)}))] + \\frac{\\lambda}{2m} \\sum_{j=1}^{n} \\theta_j^2$ where $h_\\theta(x^{(i)}) = g(\\theta^T x^{(i)})$ and g is the sigmoid function. Hence the partial derivatives of above cost functions are defined as: $\\frac{\\partial J}{\\partial \\theta_0} = \\frac{1}{m} \\sum_{i=1}^{m}(h_\\theta(x^{(i)})- y^{(i)})x_j^{(i)}$ for $j = 0$ and $\\frac{\\partial J}{\\partial \\theta_j} =(\\frac{1}{m} \\sum_{i=1}^{m}(h_\\theta(x^{(i)})- y^{(i)})x_j^{(i)}) + \\frac{\\lambda}{m}\\theta_j$ for $j \\geq 1$. Having vectorized we get the following formula for the gradient: $\\frac{\\partial J}{\\partial \\theta} = \\frac{1}{m} X^T (h_\\theta(x) - y) + \\frac{\\lambda}{m} \\theta^\\prime$ where $\\theta^\\prime$ is equal to $\\theta$ for $j \\geq 1$ and $0$ for $j = 0$ (not regularising bias)."
   ]
  },
  {
   "cell_type": "code",
   "execution_count": 89,
   "metadata": {},
   "outputs": [],
   "source": [
    "from numbers import Number\n",
    "def sigmoid(x):\n",
    "    if isinstance(x, Number):\n",
    "        return 1/(1+np.exp(-x))\n",
    "    else:\n",
    "        return np.divide(np.ones(x.shape), np.add(np.ones(x.shape), np.exp(np.negative(x))))"
   ]
  },
  {
   "cell_type": "code",
   "execution_count": 90,
   "metadata": {},
   "outputs": [],
   "source": [
    "def cost_function(theta, X, y, regularisation_parameter):\n",
    "    m = X.shape[0]\n",
    "    h = sigmoid(X@theta)\n",
    "    return 1/m * sum(np.subtract(np.multiply(np.negative(y), np.log(h)), np.multiply(np.subtract(np.ones(m), y), np.log(np.subtract(np.ones(m), h))))) + regularisation_parameter/2/m * sum(np.power(theta[1:], 2))"
   ]
  },
  {
   "cell_type": "code",
   "execution_count": 91,
   "metadata": {},
   "outputs": [],
   "source": [
    "def gradient(theta, X, y, regularisation_parameter):\n",
    "    m = X.shape[0]\n",
    "    theta2 = theta.copy()\n",
    "    theta2[0] = 0\n",
    "    return (1/m * np.dot(np.transpose(X), sigmoid(X@theta) - y) + regularisation_parameter/m * theta2)"
   ]
  },
  {
   "cell_type": "code",
   "execution_count": 92,
   "metadata": {},
   "outputs": [
    {
     "name": "stdout",
     "output_type": "stream",
     "text": [
      "2.534819396109744\n",
      "[ 0.14656137 -0.54855841  0.72472227  1.39800296]\n"
     ]
    }
   ],
   "source": [
    "# testing whether cost_function and gradient are working as expected\n",
    "theta_t = np.array([-2, -1, 1, 2])\n",
    "X_t = np.concatenate((np. ones((5,1)), np.arange(1,16).reshape((5,3), order='F')/10), axis=1)\n",
    "y_t = np.array([1, 0, 1, 0, 1])\n",
    "lambda_t = 3\n",
    "print(cost_function(theta_t, X_t, y_t, lambda_t))\n",
    "print(gradient(theta_t, X_t, y_t, lambda_t))"
   ]
  },
  {
   "cell_type": "markdown",
   "metadata": {},
   "source": [
    "Now I am going to train 10 classifiers."
   ]
  },
  {
   "cell_type": "code",
   "execution_count": 93,
   "metadata": {},
   "outputs": [],
   "source": [
    "from scipy import optimize"
   ]
  },
  {
   "cell_type": "code",
   "execution_count": 94,
   "metadata": {},
   "outputs": [],
   "source": [
    "def oneVsAll(X, y, num_labels, regularisation_parameter):\n",
    "    m = X.shape[0] # number of training instances \n",
    "    n = X.shape[1] # number of parameters - pixels in this case\n",
    "    \n",
    "    theta = np.zeros((num_labels, n+1)) # preallocation of matrix of classifier parameters\n",
    "    X = np.concatenate((np.ones((m, 1)), X), axis=1)\n",
    "    initial_theta = np.zeros(n+1)\n",
    "    for c in range(num_labels):\n",
    "        y2 = y.copy()\n",
    "        y2 = np.array([1 if i == c else 0 for i in y2])\n",
    "        theta[c] = optimize.fmin_cg(lambda x: cost_function(x, X, y2, regularisation_parameter), initial_theta, fprime=lambda x: gradient(x, X, y2, regularisation_parameter))\n",
    "        #theta[c] = optimize.minimize(cost_function, initial_theta, args=(X, y2, regularisation_parameter), method='CG', jac=gradient)\n",
    "    return theta\n"
   ]
  },
  {
   "cell_type": "code",
   "execution_count": 95,
   "metadata": {},
   "outputs": [
    {
     "name": "stdout",
     "output_type": "stream",
     "text": [
      "Optimization terminated successfully.\n",
      "         Current function value: 0.008572\n",
      "         Iterations: 102\n",
      "         Function evaluations: 394\n",
      "         Gradient evaluations: 394\n",
      "Optimization terminated successfully.\n",
      "         Current function value: 0.013126\n",
      "         Iterations: 112\n",
      "         Function evaluations: 425\n",
      "         Gradient evaluations: 425\n",
      "Optimization terminated successfully.\n",
      "         Current function value: 0.050818\n",
      "         Iterations: 189\n",
      "         Function evaluations: 568\n",
      "         Gradient evaluations: 568\n",
      "Optimization terminated successfully.\n",
      "         Current function value: 0.057603\n",
      "         Iterations: 293\n",
      "         Function evaluations: 886\n",
      "         Gradient evaluations: 886\n",
      "Optimization terminated successfully.\n",
      "         Current function value: 0.033095\n",
      "         Iterations: 152\n",
      "         Function evaluations: 490\n",
      "         Gradient evaluations: 490\n",
      "Optimization terminated successfully.\n",
      "         Current function value: 0.054467\n",
      "         Iterations: 240\n",
      "         Function evaluations: 709\n",
      "         Gradient evaluations: 709\n",
      "Optimization terminated successfully.\n",
      "         Current function value: 0.018257\n",
      "         Iterations: 163\n",
      "         Function evaluations: 595\n",
      "         Gradient evaluations: 595\n",
      "Optimization terminated successfully.\n",
      "         Current function value: 0.030648\n",
      "         Iterations: 174\n",
      "         Function evaluations: 597\n",
      "         Gradient evaluations: 597\n",
      "Optimization terminated successfully.\n",
      "         Current function value: 0.078451\n",
      "         Iterations: 302\n",
      "         Function evaluations: 840\n",
      "         Gradient evaluations: 840\n",
      "Optimization terminated successfully.\n",
      "         Current function value: 0.071210\n",
      "         Iterations: 268\n",
      "         Function evaluations: 736\n",
      "         Gradient evaluations: 736\n"
     ]
    }
   ],
   "source": [
    "theta = oneVsAll(X, y, 10, 0.1)"
   ]
  },
  {
   "cell_type": "code",
   "execution_count": 96,
   "metadata": {},
   "outputs": [],
   "source": [
    "def plot_number(index):\n",
    "    image = X[index,:].reshape((20,20), order='F').copy()\n",
    "    plt.imshow(image, cmap='gray')\n",
    "    plt.axis('off')"
   ]
  },
  {
   "cell_type": "code",
   "execution_count": 97,
   "metadata": {},
   "outputs": [
    {
     "name": "stdout",
     "output_type": "stream",
     "text": [
      "446\n"
     ]
    },
    {
     "data": {
      "text/plain": [
       "array([  1.9149877 , -20.28463228,  -4.99614587,  -9.82525013,\n",
       "       -13.60077991,  -3.54267133,  -3.73200207, -15.97269068,\n",
       "       -12.77239308, -16.60058331])"
      ]
     },
     "execution_count": 97,
     "metadata": {},
     "output_type": "execute_result"
    }
   ],
   "source": [
    "from random import randint\n",
    "index = randint(0, X.shape[0])\n",
    "print(index)\n",
    "theta.dot(np.insert(X[index], 0, 1, axis=0))"
   ]
  },
  {
   "cell_type": "code",
   "execution_count": 98,
   "metadata": {},
   "outputs": [
    {
     "data": {
      "image/png": "[encoded data removed]",
      "text/plain": [
       "<Figure size 432x288 with 1 Axes>"
      ]
     },
     "metadata": {
      "needs_background": "light"
     },
     "output_type": "display_data"
    }
   ],
   "source": [
    "plot_number(index)"
   ]
  },
  {
   "cell_type": "code",
   "execution_count": 99,
   "metadata": {},
   "outputs": [],
   "source": [
    "def predict_one_vs_all(theta, X):\n",
    "    m = X.shape[0]\n",
    "    n = X.shape[1]\n",
    "    X = np.concatenate((np.ones((m, 1)), X), axis=1)\n",
    "    predictions = X.dot(np.transpose(theta))\n",
    "    return np.argmax(predictions, axis=1)\n"
   ]
  },
  {
   "cell_type": "code",
   "execution_count": 100,
   "metadata": {},
   "outputs": [
    {
     "data": {
      "text/plain": [
       "0.9646"
      ]
     },
     "execution_count": 100,
     "metadata": {},
     "output_type": "execute_result"
    }
   ],
   "source": [
    "(predict_one_vs_all(theta, X) == y).mean()"
   ]
  },
  {
   "cell_type": "markdown",
   "metadata": {},
   "source": [
    "My classifier classified 96% of training set instances correctly."
   ]
  },
  {
   "cell_type": "markdown",
   "metadata": {},
   "source": [
    "Logistic regression cannot form more complex hypotheses because it is a linear classifier. I could add more features (like in a previous exercise) but it could be very expensive to train. The goal of the next exercise is to build a feedforward propagation algorithm for a neural network. I will use parameters that has already been trained and supplied by the lecturer. Neural networks are able to represent complex, non-linear models."
   ]
  },
  {
   "cell_type": "markdown",
   "metadata": {},
   "source": [
    "Given neural network has 3 layers - input layer of size 400 (plus one bias unit that is always equal to 1), hidden layer of 25 units (plus one bias unit) and output layer with 10 units (because there are only 10 digits to classify). Hence Theta1 has a shape of (25, 401) and Theta2 has a shape of (10, 26)."
   ]
  },
  {
   "cell_type": "code",
   "execution_count": 101,
   "metadata": {},
   "outputs": [
    {
     "name": "stdout",
     "output_type": "stream",
     "text": [
      "(25, 401) (10, 26) (5000, 400)\n"
     ]
    }
   ],
   "source": [
    "Theta1 = np.genfromtxt('Theta1.csv', delimiter=',')\n",
    "Theta2 = np.genfromtxt('Theta2.csv', delimiter=',')\n",
    "print(Theta1.shape, Theta2.shape, X.shape)"
   ]
  },
  {
   "cell_type": "code",
   "execution_count": 102,
   "metadata": {},
   "outputs": [],
   "source": [
    "def predict_nn(Theta1, Theta2, X):\n",
    "    m = X.shape[0]\n",
    "    X = np.concatenate((np.ones((m, 1)), X), axis=1)\n",
    "    \n",
    "    a2 = sigmoid(X.dot(np.transpose(Theta1)))\n",
    "    a2 = np.insert(a2, 0, 1, axis=1)\n",
    "    \n",
    "    return np.argmax(sigmoid(a2.dot(np.transpose(Theta2))), axis=1) + 1 # Adding one because of different indexing in MATLAB "
   ]
  },
  {
   "cell_type": "code",
   "execution_count": 103,
   "metadata": {},
   "outputs": [
    {
     "data": {
      "text/plain": [
       "0.9752"
      ]
     },
     "execution_count": 103,
     "metadata": {},
     "output_type": "execute_result"
    }
   ],
   "source": [
    "y = np.genfromtxt('y.csv', delimiter=',') # importing original y once again because of different MATLAB indexing\n",
    "(predict_nn(Theta1, Theta2, X) == y).mean()"
   ]
  },
  {
   "cell_type": "markdown",
   "metadata": {},
   "source": [
    "Neural network accuracy is about 97.5%."
   ]
  }
 ],
 "metadata": {
  "kernelspec": {
   "display_name": "Python 3",
   "language": "python",
   "name": "python3"
  },
  "language_info": {
   "codemirror_mode": {
    "name": "ipython",
    "version": 3
   },
   "file_extension": ".py",
   "mimetype": "text/x-python",
   "name": "python",
   "nbconvert_exporter": "python",
   "pygments_lexer": "ipython3",
   "version": "3.7.0"
  }
 },
 "nbformat": 4,
 "nbformat_minor": 2
}
